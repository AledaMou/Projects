{
 "cells": [
  {
   "cell_type": "markdown",
   "id": "dd9dc8b7",
   "metadata": {},
   "source": [
    "# 10 Open Problems in Discrete Mathematics and Number Theory"
   ]
  },
  {
   "cell_type": "markdown",
   "id": "4e9f9ce6",
   "metadata": {},
   "source": [
    "Aleda Islam Mou  \n",
    "\n",
    "Seminar Group: MA19w-2\n",
    "\n",
    "Matriculation Number: 52077"
   ]
  },
  {
   "cell_type": "markdown",
   "id": "76476637",
   "metadata": {},
   "source": [
    "### Problem 1"
   ]
  },
  {
   "cell_type": "markdown",
   "id": "dfbe3644",
   "metadata": {},
   "source": [
    "The Twin Prime Conjecture:\n",
    "This is a conjecture that states that there are infinitely many twin primes (pairs of primesthat differ by 2)."
   ]
  },
  {
   "cell_type": "code",
   "execution_count": 73,
   "id": "3817fff2",
   "metadata": {},
   "outputs": [
    {
     "name": "stdout",
     "output_type": "stream",
     "text": [
      "[(3, 5), (5, 7), (11, 13), (17, 19), (29, 31), (41, 43), (59, 61), (71, 73), (101, 103), (107, 109), (137, 139), (149, 151), (179, 181), (191, 193), (197, 199)]\n"
     ]
    }
   ],
   "source": [
    "# To check if a number is prime.\n",
    "def is_prime(number):\n",
    "    if number <= 1:\n",
    "        return False\n",
    "    for value in range(2, int(number ** 0.5) + 1):\n",
    "        if number % value == 0:\n",
    "            return False\n",
    "    return True\n",
    "\n",
    "# To generate twin primes up to the number n.\n",
    "def twin_primes(n):\n",
    "    primes = []\n",
    "    for number in range(3, n + 1):\n",
    "        if is_prime(number) and is_prime(number + 2):\n",
    "            primes.append((number, number + 2))\n",
    "    return primes\n",
    "\n",
    "# Example\n",
    "print(twin_primes(200))"
   ]
  },
  {
   "cell_type": "markdown",
   "id": "2f3046d5",
   "metadata": {},
   "source": [
    "### Problem 2"
   ]
  },
  {
   "cell_type": "markdown",
   "id": "33eca6c5",
   "metadata": {},
   "source": [
    "Goldbach’s Conjecture:\n",
    "Is every even integer greater than 2 the sum of two prime numbers?"
   ]
  },
  {
   "cell_type": "code",
   "execution_count": 74,
   "id": "ed689546",
   "metadata": {},
   "outputs": [
    {
     "name": "stdout",
     "output_type": "stream",
     "text": [
      "Goldbach pair for 100: (3, 97)\n"
     ]
    }
   ],
   "source": [
    "# To check if a number is prime.\n",
    "def is_prime(n):\n",
    "    if n < 2:\n",
    "        return False\n",
    "    for i in range(2, int(n**0.5)+1):\n",
    "        if n % i == 0:\n",
    "            return False\n",
    "    return True\n",
    "\n",
    "# Compute Goldbach prime pair\n",
    "def goldbach(n):\n",
    "    for i in range(2, n):\n",
    "        if is_prime(i) and is_prime(n-i):\n",
    "            return (i, n-i)\n",
    "    return None\n",
    "\n",
    "# Number to consider\n",
    "n = 100\n",
    "\n",
    "print(f\"Goldbach pair for {n}: {goldbach(n)}\")"
   ]
  },
  {
   "cell_type": "markdown",
   "id": "31cb5c61",
   "metadata": {},
   "source": [
    "### Problem 3"
   ]
  },
  {
   "cell_type": "markdown",
   "id": "091f1d2c",
   "metadata": {},
   "source": [
    "Fibonacci square conjecture:\n",
    "It asks whether there are any perfect squares in the Fibonacci sequence, other than 0 and 1."
   ]
  },
  {
   "cell_type": "code",
   "execution_count": 75,
   "id": "e9802cea",
   "metadata": {},
   "outputs": [
    {
     "name": "stdout",
     "output_type": "stream",
     "text": [
      "[0, 1, 1, 2, 3, 5, 8, 13, 21, 34, 55, 89, 144, 233, 377, 610, 987, 1597, 2584, 4181, 6765]\n"
     ]
    }
   ],
   "source": [
    "# First n Fibonacci numbers\n",
    "n = 20\n",
    "fibonacci_numbers = [i for i in fibonacci_sequence(0, n + 1)]\n",
    "print(fibonacci_numbers)"
   ]
  },
  {
   "cell_type": "code",
   "execution_count": 76,
   "id": "ca95671b",
   "metadata": {},
   "outputs": [
    {
     "name": "stdout",
     "output_type": "stream",
     "text": [
      "144\n"
     ]
    }
   ],
   "source": [
    "fibonacci_numbers = [0, 1]\n",
    "\n",
    "# Create a fibonacci number and append the list of fibonacci numbers\n",
    "for i in range(2, 20):\n",
    "    fibonacci_number = fibonacci_numbers[i-1] + fibonacci_numbers[i-2]\n",
    "    fibonacci_numbers.append(fibonacci_number)\n",
    "    \n",
    "    # Check if the ith index of the list of fibonacci numbers is a perfect square\n",
    "    if fibonacci_numbers[i] > 1 and fibonacci_numbers[i] == int(fibonacci_numbers[i]**0.5)**2:\n",
    "        print(fibonacci_numbers[i])"
   ]
  },
  {
   "cell_type": "markdown",
   "id": "fe7a93c8",
   "metadata": {},
   "source": [
    "### Problem 4"
   ]
  },
  {
   "cell_type": "markdown",
   "id": "066b8450",
   "metadata": {},
   "source": [
    "The odd perfect number problem:\n",
    "The odd perfect number problem is one of the oldest and most famous unsolved problems in mathematics. The problem seeks to determine whether any odd perfect numbers exist."
   ]
  },
  {
   "cell_type": "code",
   "execution_count": 81,
   "id": "59bcf1d9",
   "metadata": {},
   "outputs": [
    {
     "data": {
      "text/plain": [
       "[6, 28, 496]"
      ]
     },
     "execution_count": 81,
     "metadata": {},
     "output_type": "execute_result"
    }
   ],
   "source": [
    "# Sum of divisors of a number\n",
    "def sum_divisors(number):\n",
    "    return sum(value for value in range(1, number) if number % value == 0)\n",
    "\n",
    "# Check if a number is perfect\n",
    "def is_perfect(number):\n",
    "    return number == sum_divisors(number)\n",
    "\n",
    "# Generate the first n perfect numbers\n",
    "def perfect_numbers(n):\n",
    "    i = 1\n",
    "    result = []\n",
    "    while len(result) < n:\n",
    "        if is_perfect(i):\n",
    "            result.append(i)\n",
    "        i += 1\n",
    "    return result\n",
    "\n",
    "perfect_numbers(3)"
   ]
  },
  {
   "cell_type": "markdown",
   "id": "eb844808",
   "metadata": {},
   "source": [
    "### Problem 5"
   ]
  },
  {
   "cell_type": "markdown",
   "id": "e659dfff",
   "metadata": {},
   "source": [
    "The Beal Conjecture: The Beal Conjecture is a generalization of Fermat’s Last Theorem to equations of the form\n",
    "ax^p + by^q = cz^r, where a, b, c, p, q, and r are positive integers greater than 2, and x, y, and\n",
    "z are positive integers greater than 1"
   ]
  },
  {
   "cell_type": "code",
   "execution_count": 82,
   "id": "e9bb33a7",
   "metadata": {},
   "outputs": [
    {
     "name": "stdout",
     "output_type": "stream",
     "text": [
      "Solution found: x = 108 y = 36 z = 18\n",
      "The common factor is: 1\n"
     ]
    }
   ],
   "source": [
    "# Define the equation ax^p + by^q = cz^r\n",
    "a = 2\n",
    "b = 3\n",
    "c = 4\n",
    "p = 3\n",
    "q = 4\n",
    "r = 5\n",
    "\n",
    "# Check if there exist positive integers x, y, and z that satisfy the equation\n",
    "for x in range(2, 200):\n",
    "    for y in range(2, 200):\n",
    "        for z in range(2, 200):\n",
    "            if a*x**p + b*y**q == c*z**r:\n",
    "                print(\"Solution found: x =\", x, \"y =\", y, \"z =\", z)\n",
    "                common_factor = gcd(gcd(a,b),c)\n",
    "                print(\"The common factor is:\", common_factor)"
   ]
  },
  {
   "cell_type": "markdown",
   "id": "1c10d504",
   "metadata": {},
   "source": [
    "### Problem 6"
   ]
  },
  {
   "cell_type": "markdown",
   "id": "016bb4fc",
   "metadata": {},
   "source": [
    "The Erdős-Straus conjecture: The Erdős-Straus conjecture is a famous unsolved problem in number theory. The conjecture states that every positive integer n that is 2 or more, can be expressed as the sum of at most 4 distinct reciprocals of integers."
   ]
  },
  {
   "cell_type": "code",
   "execution_count": 155,
   "id": "488de669",
   "metadata": {},
   "outputs": [
    {
     "name": "stdout",
     "output_type": "stream",
     "text": [
      "4/2 = 1/2 + 1 + 1/2  This statement is: True\n",
      "4/10 = 1/10 + 1/5 + 1/10  This statement is: True\n",
      "4/3 = 1 + 1/6 + 1/6  This statement is: True\n",
      "4/21 = 1/7 + 1/42 + 1/42  This statement is: True\n",
      "4/3 = 1 + 1/4 + 1/12  This statement is: True\n",
      "4/18 = 1/6 + 1/24 + 1/72  This statement is: True\n",
      "4/5 = 1/5 + 1/2 + 1/10  This statement is: True\n",
      "4/10 = 1/10 + 1/4 + 1/20  This statement is: True\n",
      "4/7 = 1/2 + 1/28 + 1/28  This statement is: True\n",
      "4/28 = 1/8 + 1/112 + 1/112  This statement is: True\n",
      "4/7 = 1/2 + 1/15 + 1/210  This statement is: True\n",
      "4/35 = 1/10 + 1/75 + 1/1050  This statement is: True\n",
      "4/8 = 1/8 + 1/3 + 1/24  This statement is: True\n"
     ]
    }
   ],
   "source": [
    "# Set prime condition\n",
    "def prime_condition(a, b, c, n):  \n",
    "    if is_prime(n):\n",
    "        m = ZZ.random_element(1,10)\n",
    "        a *= 1/m\n",
    "        b *= 1/m\n",
    "        c *= 1/m\n",
    "        print(f\"4/{ m * n} = {a} + {b} + {c}\" , f\" This statement is: {4/(m * n) == a + b + c}\")\n",
    "    \n",
    "\n",
    "# To demonstrate a few cases of Erdös Straus conjecture\n",
    "def erdos_straus(n):   \n",
    "    \n",
    "    # Check for n modulo 4\n",
    "    if n % 3 == 2:\n",
    "        a = 1/n\n",
    "        b = 1/((n + 1)/3)\n",
    "        c = 1/((n * (n + 1))/3)\n",
    "        print(f\"4/{n} = {a} + {b} + {c}\" , f\" This statement is: {4/n == a + b + c}\")\n",
    "        prime_condition(a, b, c, n)\n",
    "\n",
    "    # Check for n modulo 4\n",
    "    if n % 4 == 3:\n",
    "        a = 1/((n + 1)/4)\n",
    "        b = 1/(((n + 1)/2) * n)\n",
    "        c = 1/(((n + 1)/2) * n)        \n",
    "        print(f\"4/{n} = {a} + {b} + {c}\" , f\" This statement is: {4/n == a + b + c}\")        \n",
    "        prime_condition(a, b, c, n)\n",
    "        \n",
    "        if is_even(1/b):\n",
    "            d = (((n + 1)/2) * n)//2 \n",
    "            b = 1/(d + 1)\n",
    "            c = 1/(d * (d + 1))\n",
    "            print(f\"4/{n} = {a} + {b} + {c}\" , f\" This statement is: {4/n == a + b + c}\")\n",
    "            prime_condition(a, b, c, n)\n",
    "\n",
    "        else:\n",
    "            d = (((n + 1)/2) * n)//2 \n",
    "            b = 1/(d + 1)\n",
    "            c = 1/((d + 1) * (2*d + 1))            \n",
    "            print(f\"4/{n} = {a} + {b} + {c}\" , f\" This statement is: {4/n == a + b + c}\")\n",
    "            prime_condition(a, b, c, n)\n",
    "\n",
    "for n in range(2, 10):\n",
    "    erdos_straus(n)"
   ]
  },
  {
   "cell_type": "markdown",
   "id": "ba959c4c",
   "metadata": {},
   "source": [
    "###  Problem 7"
   ]
  },
  {
   "cell_type": "markdown",
   "id": "85abddee",
   "metadata": {},
   "source": [
    "The Collatz Conjecture:\n",
    "This is a conjecture that states that starting from any positive integer and applying the simple rule “if the number is even, divide it by 2; if it is odd, triple it and add 1” will eventually reach 1."
   ]
  },
  {
   "cell_type": "code",
   "execution_count": 90,
   "id": "a2a4fc40",
   "metadata": {},
   "outputs": [
    {
     "data": {
      "text/plain": [
       "[15, 46, 23, 70, 35, 106, 53, 160, 80, 40, 20, 10, 5, 16, 8, 4, 2, 1]"
      ]
     },
     "execution_count": 90,
     "metadata": {},
     "output_type": "execute_result"
    }
   ],
   "source": [
    "# Compute Collatz of a number \n",
    "def collatz(number):\n",
    "    sequence = [number]\n",
    "    while number != 1:\n",
    "        if number % 2 == 0:\n",
    "            number = number // 2\n",
    "        else:\n",
    "            number = 3*number + 1\n",
    "        sequence.append(number)\n",
    "    return sequence\n",
    "\n",
    "collatz(15)"
   ]
  },
  {
   "cell_type": "markdown",
   "id": "76e2ef85",
   "metadata": {},
   "source": [
    "### Problem 8"
   ]
  },
  {
   "cell_type": "markdown",
   "id": "e9226680",
   "metadata": {},
   "source": [
    "The ABC conjecture:\n",
    "It is a major unsolved problem in number theory which was first proposed by Joseph Oesterlé and David Masser in 1985. It is stated in terms of three positive integers a, b, and c that are relatively prime and satisfy a + b = c."
   ]
  },
  {
   "cell_type": "code",
   "execution_count": 123,
   "id": "b3fff832",
   "metadata": {},
   "outputs": [
    {
     "name": "stdout",
     "output_type": "stream",
     "text": [
      "True\n"
     ]
    }
   ],
   "source": [
    "# Compute the radical of a number\n",
    "def rad(number):\n",
    "    prime_divisors = prime_factors(number)\n",
    "    return prod(prime_divisors)\n",
    "\n",
    "def abc_conjecture(a, b, c, K, epsilon):\n",
    "    if gcd(a, b) == 1 and gcd(a, c) == 1 and gcd(b, c) == 1:\n",
    "        if a + b == c:\n",
    "            if c < K * rad(a * b * c) ** (1 + epsilon):\n",
    "                return True\n",
    "    return False\n",
    "\n",
    "a = 3\n",
    "b = 5\n",
    "c = 8\n",
    "K = 1\n",
    "epsilon = 0.5\n",
    "\n",
    "print(abc_conjecture(a, b, c, K, epsilon))"
   ]
  },
  {
   "cell_type": "markdown",
   "id": "e463615e",
   "metadata": {},
   "source": [
    "### Problem 9"
   ]
  },
  {
   "cell_type": "markdown",
   "id": "16ebffec",
   "metadata": {},
   "source": [
    "The Lonely Runner Conjecture: The Lonely Runner Conjecture is a problem in mathematics that concerns a group of run-\n",
    "ners who start running at the same time on a circular track of unit length. Each runner\n",
    "has a different positive integer speed, and they all run in the same direction.The conjecture asks whether there is a moment in time when each runner is “lonely”, that is, at a distance of at least 1/s from any other runner, where s is the runner’s speed"
   ]
  },
  {
   "cell_type": "code",
   "execution_count": 156,
   "id": "77b7ddb8",
   "metadata": {},
   "outputs": [
    {
     "name": "stdout",
     "output_type": "stream",
     "text": [
      "True\n"
     ]
    }
   ],
   "source": [
    "# To verify the lonely runner conjecture\n",
    "def lonely_runner_conjecture(s):\n",
    "    n = len(s)\n",
    "    for t in range(1, n+1):\n",
    "        lonely = True\n",
    "        for i in range(n):            \n",
    "            # Create a list of distances between runners. Take the mininimum distance\n",
    "            distances = [abs((s[i]*t) % n - (s[j]*t) % n) for j in range(n) if j != i]\n",
    "            minimum_distance = min(distances)\n",
    "            if minimum_distance < 1/s[i]:\n",
    "                lonely = False\n",
    "                break\n",
    "        if lonely:\n",
    "            return True\n",
    "    return False\n",
    "\n",
    "# Example input\n",
    "s = [2, 3, 4, 5, 6]\n",
    "\n",
    "# Check conjecture for this input\n",
    "print(lonely_runner_conjecture(s))"
   ]
  },
  {
   "cell_type": "markdown",
   "id": "967adc56",
   "metadata": {},
   "source": [
    "### Problem 10"
   ]
  },
  {
   "cell_type": "markdown",
   "id": "37208a59",
   "metadata": {},
   "source": [
    "The Cramér conjecture: Cramér conjectured that the gap between consecutive primes should be at most\n",
    "on the order of the logarithm of the larger prime."
   ]
  },
  {
   "cell_type": "code",
   "execution_count": 60,
   "id": "e40a28c6",
   "metadata": {},
   "outputs": [
    {
     "name": "stdout",
     "output_type": "stream",
     "text": [
      "The list of primes: [2, 3, 5]\n",
      "Maximum difference between consecutive primes less than 6: 2\n",
      "Cramér's conjecture bound: 2.59029039398023\n"
     ]
    }
   ],
   "source": [
    "# maximum number to consider\n",
    "N = 6  \n",
    "\n",
    "# List of primes less than N\n",
    "primes = prime_range(2, N)\n",
    "\n",
    "# Differences between consecutive primes \n",
    "difference = [primes[i+1] - primes[i] for i in range(len(primes)-1)]\n",
    "\n",
    "# Take the maximum difference between consecutive primes\n",
    "maximum_difference = max(difference)  \n",
    "\n",
    "# Cramér's conjecture bound for the maximum difference\n",
    "cramer_bound = ((log(primes[-1]))**2).n()  \n",
    "\n",
    "print(f\"The list of primes: {primes}\")\n",
    "print(f\"Maximum difference between consecutive primes less than {N}: {maximum_difference}\")\n",
    "print(f\"Cramér's conjecture bound: {cramer_bound}\")"
   ]
  }
 ],
 "metadata": {
  "kernelspec": {
   "display_name": "SageMath 9.0",
   "language": "sage",
   "name": "sagemath9"
  },
  "language_info": {
   "codemirror_mode": {
    "name": "ipython",
    "version": 3
   },
   "file_extension": ".py",
   "mimetype": "text/x-python",
   "name": "python",
   "nbconvert_exporter": "python",
   "pygments_lexer": "ipython3",
   "version": "3.7.3"
  }
 },
 "nbformat": 4,
 "nbformat_minor": 5
}
